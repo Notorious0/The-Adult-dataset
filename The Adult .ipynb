{
 "cells": [
  {
   "cell_type": "markdown",
   "id": "ade387be",
   "metadata": {},
   "source": [
    "---\n",
    "# **Table of Contents**\n",
    "---\n",
    "\n",
    "1. [**Introduction**](#Section1)<br>\n",
    "2. [**Problem Statement**](#Section2)<br>\n",
    "3. [**Installing & Importing Libraries**](#Section3)<br>\n",
    "  3.1 [**Installing Libraries**](#Section31)<br>\n",
    "  3.2 [**Upgrading Libraries**](#Section32)<br>\n",
    "  3.3 [**Importing Libraries**](#Section33)<br>\n",
    "4. [**Data Acquisition & Description**](#Section4)<br>\n",
    "5. [**Data Pre-Profiling**](#Section5)<br>\n",
    "6. [**Data Pre-Processing**](#Section6)<br>\n",
    "7. [**Data Post-Profiling**](#Section7)<br>\n",
    "8. [**Exploratory Data Analysis**](#Section8)<br>\n",
    "\n",
    "---"
   ]
  },
  {
   "cell_type": "markdown",
   "id": "98bd9962",
   "metadata": {},
   "source": [
    "---\n",
    "<a name = Section1></a>\n",
    "# **1. Introduction**\n",
    "---\n",
    "\n",
    "An individual’s annual income results from various factors. Intuitively, it is influenced by the individual’s education level, age, gender, occupation, and etc.\n",
    "In this notebook, I will be using only **EDA** part.\n",
    "\n",
    "This is a widely cited KNN dataset. I encountered it during my course, and I wish to share it here because it is a good starter example for data pre-processing.\n",
    "**DATASET LINK**\n",
    "https://www.kaggle.com/datasets/wenruliu/adult-income-dataset"
   ]
  },
  {
   "cell_type": "markdown",
   "id": "9f472b65",
   "metadata": {},
   "source": [
    "---\n",
    "<a name = Section2></a>\n",
    "# **2. Problem Statement**\n",
    "---\n",
    "\n",
    "- This section is emphasised on providing some generic introduction to the problem that most companies confronts.\n",
    "\n",
    "\n",
    "\n",
    " -This dataset comes from the UCI repository of databases.\n",
    " \n",
    " -The task is to predict if an individual's annual income excceds **$50,000** based on census data.\n",
    "\n"
   ]
  },
  {
   "cell_type": "markdown",
   "id": "5e7caa08",
   "metadata": {},
   "source": [
    "<a id = Section3></a>\n",
    "# **3. Installing & Importing Libraries**\n",
    "---\n",
    "\n",
    "- This section is emphasised on installing and importing the necessary libraries that will be required."
   ]
  },
  {
   "cell_type": "markdown",
   "id": "09ad45ca",
   "metadata": {},
   "source": [
    "### **Installing Libraries**"
   ]
  },
  {
   "cell_type": "code",
   "execution_count": 1,
   "id": "1114d633",
   "metadata": {
    "ExecuteTime": {
     "end_time": "2023-01-24T10:00:12.196969Z",
     "start_time": "2023-01-24T09:59:59.108266Z"
    }
   },
   "outputs": [],
   "source": [
    "!pip install -q datascience                  \n",
    "!pip install -q pandas-profiling      "
   ]
  },
  {
   "cell_type": "markdown",
   "id": "0cc08225",
   "metadata": {},
   "source": [
    "### **Upgrading Libraries**\n",
    "\n",
    "- **After upgrading** the libraries, you need to **restart the runtime** to make the libraries in sync.\n",
    "\n",
    "- Make sure not to execute the cell under Installing Libraries and Upgrading Libraries again after restarting the runtime."
   ]
  },
  {
   "cell_type": "code",
   "execution_count": 2,
   "id": "a89e16ed",
   "metadata": {
    "ExecuteTime": {
     "end_time": "2023-01-24T10:00:14.503843Z",
     "start_time": "2023-01-24T10:00:12.198964Z"
    }
   },
   "outputs": [
    {
     "name": "stderr",
     "output_type": "stream",
     "text": [
      "ERROR: Invalid requirement: '#'\n"
     ]
    }
   ],
   "source": [
    "!pip install -q --upgrade pandas-profiling                          # Upgrading pandas profiling to the latest version"
   ]
  },
  {
   "cell_type": "markdown",
   "id": "efc505e3",
   "metadata": {},
   "source": [
    "### **Importing Libraries**\n",
    "\n",
    "- You can headstart with the basic libraries as imported inside the cell below.\n",
    "\n",
    "- If you want to import some additional libraries, feel free to do so.\n"
   ]
  },
  {
   "cell_type": "code",
   "execution_count": 3,
   "id": "1e967f1b",
   "metadata": {
    "ExecuteTime": {
     "end_time": "2023-01-24T10:00:21.571713Z",
     "start_time": "2023-01-24T10:00:14.508637Z"
    }
   },
   "outputs": [],
   "source": [
    "import pandas as pd                                                 # Importing for panel data analysis\n",
    "from pandas_profiling import ProfileReport                          # Importing Pandas Profiling (To generate Univariate Analysis) \n",
    "pd.set_option('display.max_columns', None)                          # Unfolding hidden features if the cardinality is high      \n",
    "pd.set_option('display.max_colwidth', None)                         # Unfolding the max feature width for better clearity      \n",
    "pd.set_option('display.max_rows', None)                             # Unfolding hidden data points if the cardinality is high\n",
    "pd.set_option('mode.chained_assignment', None)                      # Removing restriction over chained assignments operations\n",
    "pd.set_option('display.float_format', lambda x: '%.5f' % x)         # To suppress scientific notation over exponential values\n",
    "#-------------------------------------------------------------------------------------------------------------------------------\n",
    "import numpy as np                                                  # Importing package numpys (For Numerical Python)\n",
    "#-------------------------------------------------------------------------------------------------------------------------------\n",
    "import matplotlib.pyplot as plt                                     # Importing pyplot interface of matplotlib                                             \n",
    "import seaborn as sns                                               # Importing seaborn library for interactive visualization\n",
    "%matplotlib inline\n",
    "#-------------------------------------------------------------------------------------------------------------------------------\n",
    "import warnings                                                     # Importing warning to disable runtime warnings\n",
    "warnings.filterwarnings(\"ignore\")     "
   ]
  },
  {
   "cell_type": "markdown",
   "id": "7ddd7de0",
   "metadata": {},
   "source": [
    "---\n",
    "<a name = Section4></a>\n",
    "# **4. Data Acquisition & Description**\n",
    "---\n",
    "\n",
    "- This section is emphasised on the accquiring the data and obtain some descriptive information out of it.\n",
    "\n",
    "|Id|Feature|Description|\n",
    "|:--|:--|:--|\n",
    "|01| Age           | Describes the age of individuals. Continuous.| \n",
    "|02| Workclass         | Private, Self-emp-not-inc, Self-emp-inc, Federal-gov, Local-gov, State-gov, Without-pay, Never-worked.|  \n",
    "|03| fnlwgt          | Continuous| \n",
    "|04| education          | Bachelors, Some-college, 11th, HS-grad, Prof-school, Assoc-acdm, Assoc-voc, 9th, 7th-8th, 12th, Masters, 1st-4th, 10th, Doctorate, 5th-6th, Preschool.|   \n",
    "|05| education-num       | Number of years spent in education. Continuous.|\n",
    "|06| marital-status          | Married-civ-spouse, Divorced, Never-married, Separated, Widowed, Married-spouse-absent, Married-AF-spouse.|\n",
    "|07| occupation       | Tech-support, Craft-repair, Other-service, Sales, Exec-managerial, Prof-specialty, Handlers-cleaners, Machine-op-inspct, Adm-clerical, Farming-fishing, Transport-moving, Priv-house-serv, Protective-serv, Armed-Forces|\n",
    "|08| relationship         | Wife, Own-child, Husband, Not-in-family, Other-relative, Unmarried.|\n",
    "|09| race  | White, Asian-Pac-Islander, Amer-Indian-Eskimo, Other, Black.|\n",
    "|10| sex         | Female, Male.|\n",
    "|11| capital-gain         |Continuous.|\n",
    "|12| capital-loss         | Continuous.|\n",
    "|13| hours-per-week         | Continuous.|\n",
    "|14| native-country         | United-States, Cambodia, England, Puerto-Rico, Canada, Germany, Outlying-US(Guam-USVI-etc), India, Japan, Greece, South, China, Cuba, Iran, Honduras, Philippines, Italy, Poland, Jamaica, Vietnam, Mexico, Portugal, Ireland, France, Dominican-Republic, Laos, Ecuador, Taiwan, Haiti, Columbia, Hungary, Guatemala, Nicaragua, Scotland, Thailand, Yugoslavia, El-Salvador, Trinadad&Tobago, Peru, Hong, Holand-Netherlands.|\n",
    "|15| salary         | >50K,<=50K|\n"
   ]
  },
  {
   "cell_type": "code",
   "execution_count": 4,
   "id": "3926a705",
   "metadata": {
    "ExecuteTime": {
     "end_time": "2023-01-24T10:00:21.795614Z",
     "start_time": "2023-01-24T10:00:21.571713Z"
    }
   },
   "outputs": [],
   "source": [
    "data=pd.read_csv(\"adult.csv\")"
   ]
  },
  {
   "cell_type": "code",
   "execution_count": 5,
   "id": "18ed2d45",
   "metadata": {
    "ExecuteTime": {
     "end_time": "2023-01-24T10:00:21.843539Z",
     "start_time": "2023-01-24T10:00:21.795614Z"
    }
   },
   "outputs": [
    {
     "data": {
      "text/html": [
       "<div>\n",
       "<style scoped>\n",
       "    .dataframe tbody tr th:only-of-type {\n",
       "        vertical-align: middle;\n",
       "    }\n",
       "\n",
       "    .dataframe tbody tr th {\n",
       "        vertical-align: top;\n",
       "    }\n",
       "\n",
       "    .dataframe thead th {\n",
       "        text-align: right;\n",
       "    }\n",
       "</style>\n",
       "<table border=\"1\" class=\"dataframe\">\n",
       "  <thead>\n",
       "    <tr style=\"text-align: right;\">\n",
       "      <th></th>\n",
       "      <th>age</th>\n",
       "      <th>workclass</th>\n",
       "      <th>fnlwgt</th>\n",
       "      <th>education</th>\n",
       "      <th>educational-num</th>\n",
       "      <th>marital-status</th>\n",
       "      <th>occupation</th>\n",
       "      <th>relationship</th>\n",
       "      <th>race</th>\n",
       "      <th>gender</th>\n",
       "      <th>capital-gain</th>\n",
       "      <th>capital-loss</th>\n",
       "      <th>hours-per-week</th>\n",
       "      <th>native-country</th>\n",
       "      <th>income</th>\n",
       "    </tr>\n",
       "  </thead>\n",
       "  <tbody>\n",
       "    <tr>\n",
       "      <th>0</th>\n",
       "      <td>25</td>\n",
       "      <td>Private</td>\n",
       "      <td>226802</td>\n",
       "      <td>11th</td>\n",
       "      <td>7</td>\n",
       "      <td>Never-married</td>\n",
       "      <td>Machine-op-inspct</td>\n",
       "      <td>Own-child</td>\n",
       "      <td>Black</td>\n",
       "      <td>Male</td>\n",
       "      <td>0</td>\n",
       "      <td>0</td>\n",
       "      <td>40</td>\n",
       "      <td>United-States</td>\n",
       "      <td>&lt;=50K</td>\n",
       "    </tr>\n",
       "    <tr>\n",
       "      <th>1</th>\n",
       "      <td>38</td>\n",
       "      <td>Private</td>\n",
       "      <td>89814</td>\n",
       "      <td>HS-grad</td>\n",
       "      <td>9</td>\n",
       "      <td>Married-civ-spouse</td>\n",
       "      <td>Farming-fishing</td>\n",
       "      <td>Husband</td>\n",
       "      <td>White</td>\n",
       "      <td>Male</td>\n",
       "      <td>0</td>\n",
       "      <td>0</td>\n",
       "      <td>50</td>\n",
       "      <td>United-States</td>\n",
       "      <td>&lt;=50K</td>\n",
       "    </tr>\n",
       "    <tr>\n",
       "      <th>2</th>\n",
       "      <td>28</td>\n",
       "      <td>Local-gov</td>\n",
       "      <td>336951</td>\n",
       "      <td>Assoc-acdm</td>\n",
       "      <td>12</td>\n",
       "      <td>Married-civ-spouse</td>\n",
       "      <td>Protective-serv</td>\n",
       "      <td>Husband</td>\n",
       "      <td>White</td>\n",
       "      <td>Male</td>\n",
       "      <td>0</td>\n",
       "      <td>0</td>\n",
       "      <td>40</td>\n",
       "      <td>United-States</td>\n",
       "      <td>&gt;50K</td>\n",
       "    </tr>\n",
       "    <tr>\n",
       "      <th>3</th>\n",
       "      <td>44</td>\n",
       "      <td>Private</td>\n",
       "      <td>160323</td>\n",
       "      <td>Some-college</td>\n",
       "      <td>10</td>\n",
       "      <td>Married-civ-spouse</td>\n",
       "      <td>Machine-op-inspct</td>\n",
       "      <td>Husband</td>\n",
       "      <td>Black</td>\n",
       "      <td>Male</td>\n",
       "      <td>7688</td>\n",
       "      <td>0</td>\n",
       "      <td>40</td>\n",
       "      <td>United-States</td>\n",
       "      <td>&gt;50K</td>\n",
       "    </tr>\n",
       "    <tr>\n",
       "      <th>4</th>\n",
       "      <td>18</td>\n",
       "      <td>?</td>\n",
       "      <td>103497</td>\n",
       "      <td>Some-college</td>\n",
       "      <td>10</td>\n",
       "      <td>Never-married</td>\n",
       "      <td>?</td>\n",
       "      <td>Own-child</td>\n",
       "      <td>White</td>\n",
       "      <td>Female</td>\n",
       "      <td>0</td>\n",
       "      <td>0</td>\n",
       "      <td>30</td>\n",
       "      <td>United-States</td>\n",
       "      <td>&lt;=50K</td>\n",
       "    </tr>\n",
       "  </tbody>\n",
       "</table>\n",
       "</div>"
      ],
      "text/plain": [
       "   age  workclass  fnlwgt     education  educational-num      marital-status  \\\n",
       "0   25    Private  226802          11th                7       Never-married   \n",
       "1   38    Private   89814       HS-grad                9  Married-civ-spouse   \n",
       "2   28  Local-gov  336951    Assoc-acdm               12  Married-civ-spouse   \n",
       "3   44    Private  160323  Some-college               10  Married-civ-spouse   \n",
       "4   18          ?  103497  Some-college               10       Never-married   \n",
       "\n",
       "          occupation relationship   race  gender  capital-gain  capital-loss  \\\n",
       "0  Machine-op-inspct    Own-child  Black    Male             0             0   \n",
       "1    Farming-fishing      Husband  White    Male             0             0   \n",
       "2    Protective-serv      Husband  White    Male             0             0   \n",
       "3  Machine-op-inspct      Husband  Black    Male          7688             0   \n",
       "4                  ?    Own-child  White  Female             0             0   \n",
       "\n",
       "   hours-per-week native-country income  \n",
       "0              40  United-States  <=50K  \n",
       "1              50  United-States  <=50K  \n",
       "2              40  United-States   >50K  \n",
       "3              40  United-States   >50K  \n",
       "4              30  United-States  <=50K  "
      ]
     },
     "execution_count": 5,
     "metadata": {},
     "output_type": "execute_result"
    }
   ],
   "source": [
    "data.head()"
   ]
  },
  {
   "cell_type": "code",
   "execution_count": 6,
   "id": "e8181ee8",
   "metadata": {
    "ExecuteTime": {
     "end_time": "2023-01-24T10:00:21.896858Z",
     "start_time": "2023-01-24T10:00:21.843539Z"
    }
   },
   "outputs": [
    {
     "data": {
      "text/html": [
       "<div>\n",
       "<style scoped>\n",
       "    .dataframe tbody tr th:only-of-type {\n",
       "        vertical-align: middle;\n",
       "    }\n",
       "\n",
       "    .dataframe tbody tr th {\n",
       "        vertical-align: top;\n",
       "    }\n",
       "\n",
       "    .dataframe thead th {\n",
       "        text-align: right;\n",
       "    }\n",
       "</style>\n",
       "<table border=\"1\" class=\"dataframe\">\n",
       "  <thead>\n",
       "    <tr style=\"text-align: right;\">\n",
       "      <th></th>\n",
       "      <th>age</th>\n",
       "      <th>workclass</th>\n",
       "      <th>fnlwgt</th>\n",
       "      <th>education</th>\n",
       "      <th>educational-num</th>\n",
       "      <th>marital-status</th>\n",
       "      <th>occupation</th>\n",
       "      <th>relationship</th>\n",
       "      <th>race</th>\n",
       "      <th>gender</th>\n",
       "      <th>capital-gain</th>\n",
       "      <th>capital-loss</th>\n",
       "      <th>hours-per-week</th>\n",
       "      <th>native-country</th>\n",
       "      <th>income</th>\n",
       "    </tr>\n",
       "  </thead>\n",
       "  <tbody>\n",
       "    <tr>\n",
       "      <th>48837</th>\n",
       "      <td>27</td>\n",
       "      <td>Private</td>\n",
       "      <td>257302</td>\n",
       "      <td>Assoc-acdm</td>\n",
       "      <td>12</td>\n",
       "      <td>Married-civ-spouse</td>\n",
       "      <td>Tech-support</td>\n",
       "      <td>Wife</td>\n",
       "      <td>White</td>\n",
       "      <td>Female</td>\n",
       "      <td>0</td>\n",
       "      <td>0</td>\n",
       "      <td>38</td>\n",
       "      <td>United-States</td>\n",
       "      <td>&lt;=50K</td>\n",
       "    </tr>\n",
       "    <tr>\n",
       "      <th>48838</th>\n",
       "      <td>40</td>\n",
       "      <td>Private</td>\n",
       "      <td>154374</td>\n",
       "      <td>HS-grad</td>\n",
       "      <td>9</td>\n",
       "      <td>Married-civ-spouse</td>\n",
       "      <td>Machine-op-inspct</td>\n",
       "      <td>Husband</td>\n",
       "      <td>White</td>\n",
       "      <td>Male</td>\n",
       "      <td>0</td>\n",
       "      <td>0</td>\n",
       "      <td>40</td>\n",
       "      <td>United-States</td>\n",
       "      <td>&gt;50K</td>\n",
       "    </tr>\n",
       "    <tr>\n",
       "      <th>48839</th>\n",
       "      <td>58</td>\n",
       "      <td>Private</td>\n",
       "      <td>151910</td>\n",
       "      <td>HS-grad</td>\n",
       "      <td>9</td>\n",
       "      <td>Widowed</td>\n",
       "      <td>Adm-clerical</td>\n",
       "      <td>Unmarried</td>\n",
       "      <td>White</td>\n",
       "      <td>Female</td>\n",
       "      <td>0</td>\n",
       "      <td>0</td>\n",
       "      <td>40</td>\n",
       "      <td>United-States</td>\n",
       "      <td>&lt;=50K</td>\n",
       "    </tr>\n",
       "    <tr>\n",
       "      <th>48840</th>\n",
       "      <td>22</td>\n",
       "      <td>Private</td>\n",
       "      <td>201490</td>\n",
       "      <td>HS-grad</td>\n",
       "      <td>9</td>\n",
       "      <td>Never-married</td>\n",
       "      <td>Adm-clerical</td>\n",
       "      <td>Own-child</td>\n",
       "      <td>White</td>\n",
       "      <td>Male</td>\n",
       "      <td>0</td>\n",
       "      <td>0</td>\n",
       "      <td>20</td>\n",
       "      <td>United-States</td>\n",
       "      <td>&lt;=50K</td>\n",
       "    </tr>\n",
       "    <tr>\n",
       "      <th>48841</th>\n",
       "      <td>52</td>\n",
       "      <td>Self-emp-inc</td>\n",
       "      <td>287927</td>\n",
       "      <td>HS-grad</td>\n",
       "      <td>9</td>\n",
       "      <td>Married-civ-spouse</td>\n",
       "      <td>Exec-managerial</td>\n",
       "      <td>Wife</td>\n",
       "      <td>White</td>\n",
       "      <td>Female</td>\n",
       "      <td>15024</td>\n",
       "      <td>0</td>\n",
       "      <td>40</td>\n",
       "      <td>United-States</td>\n",
       "      <td>&gt;50K</td>\n",
       "    </tr>\n",
       "  </tbody>\n",
       "</table>\n",
       "</div>"
      ],
      "text/plain": [
       "       age     workclass  fnlwgt   education  educational-num  \\\n",
       "48837   27       Private  257302  Assoc-acdm               12   \n",
       "48838   40       Private  154374     HS-grad                9   \n",
       "48839   58       Private  151910     HS-grad                9   \n",
       "48840   22       Private  201490     HS-grad                9   \n",
       "48841   52  Self-emp-inc  287927     HS-grad                9   \n",
       "\n",
       "           marital-status         occupation relationship   race  gender  \\\n",
       "48837  Married-civ-spouse       Tech-support         Wife  White  Female   \n",
       "48838  Married-civ-spouse  Machine-op-inspct      Husband  White    Male   \n",
       "48839             Widowed       Adm-clerical    Unmarried  White  Female   \n",
       "48840       Never-married       Adm-clerical    Own-child  White    Male   \n",
       "48841  Married-civ-spouse    Exec-managerial         Wife  White  Female   \n",
       "\n",
       "       capital-gain  capital-loss  hours-per-week native-country income  \n",
       "48837             0             0              38  United-States  <=50K  \n",
       "48838             0             0              40  United-States   >50K  \n",
       "48839             0             0              40  United-States  <=50K  \n",
       "48840             0             0              20  United-States  <=50K  \n",
       "48841         15024             0              40  United-States   >50K  "
      ]
     },
     "execution_count": 6,
     "metadata": {},
     "output_type": "execute_result"
    }
   ],
   "source": [
    "data.tail()"
   ]
  },
  {
   "cell_type": "code",
   "execution_count": 7,
   "id": "f7a83dbb",
   "metadata": {
    "ExecuteTime": {
     "end_time": "2023-01-24T10:00:21.923815Z",
     "start_time": "2023-01-24T10:00:21.898534Z"
    }
   },
   "outputs": [
    {
     "data": {
      "text/plain": [
       "(48842, 15)"
      ]
     },
     "execution_count": 7,
     "metadata": {},
     "output_type": "execute_result"
    }
   ],
   "source": [
    "data.shape"
   ]
  },
  {
   "cell_type": "code",
   "execution_count": 8,
   "id": "6fe42e43",
   "metadata": {
    "ExecuteTime": {
     "end_time": "2023-01-24T10:00:21.939285Z",
     "start_time": "2023-01-24T10:00:21.925654Z"
    }
   },
   "outputs": [
    {
     "name": "stdout",
     "output_type": "stream",
     "text": [
      "No. of Rows 48842\n",
      "No. of Columns 15\n"
     ]
    }
   ],
   "source": [
    "print(f\"No. of Rows {data.shape[0]}\")\n",
    "print(f\"No. of Columns {data.shape[1]}\")\n"
   ]
  },
  {
   "cell_type": "code",
   "execution_count": 9,
   "id": "a0efd466",
   "metadata": {
    "ExecuteTime": {
     "end_time": "2023-01-24T10:00:21.965531Z",
     "start_time": "2023-01-24T10:00:21.942715Z"
    }
   },
   "outputs": [],
   "source": [
    "backup=data.copy()"
   ]
  },
  {
   "cell_type": "markdown",
   "id": "588a8dd3",
   "metadata": {},
   "source": [
    "### **Data Description**\n",
    "\n",
    "- To get some quick description out of the data you can use describe method defined in pandas library."
   ]
  },
  {
   "cell_type": "code",
   "execution_count": 10,
   "id": "def3636d",
   "metadata": {
    "ExecuteTime": {
     "end_time": "2023-01-24T10:00:22.033046Z",
     "start_time": "2023-01-24T10:00:21.970806Z"
    }
   },
   "outputs": [
    {
     "data": {
      "text/html": [
       "<div>\n",
       "<style scoped>\n",
       "    .dataframe tbody tr th:only-of-type {\n",
       "        vertical-align: middle;\n",
       "    }\n",
       "\n",
       "    .dataframe tbody tr th {\n",
       "        vertical-align: top;\n",
       "    }\n",
       "\n",
       "    .dataframe thead th {\n",
       "        text-align: right;\n",
       "    }\n",
       "</style>\n",
       "<table border=\"1\" class=\"dataframe\">\n",
       "  <thead>\n",
       "    <tr style=\"text-align: right;\">\n",
       "      <th></th>\n",
       "      <th>age</th>\n",
       "      <th>fnlwgt</th>\n",
       "      <th>educational-num</th>\n",
       "      <th>capital-gain</th>\n",
       "      <th>capital-loss</th>\n",
       "      <th>hours-per-week</th>\n",
       "    </tr>\n",
       "  </thead>\n",
       "  <tbody>\n",
       "    <tr>\n",
       "      <th>count</th>\n",
       "      <td>48842.00000</td>\n",
       "      <td>48842.00000</td>\n",
       "      <td>48842.00000</td>\n",
       "      <td>48842.00000</td>\n",
       "      <td>48842.00000</td>\n",
       "      <td>48842.00000</td>\n",
       "    </tr>\n",
       "    <tr>\n",
       "      <th>mean</th>\n",
       "      <td>38.64359</td>\n",
       "      <td>189664.13460</td>\n",
       "      <td>10.07809</td>\n",
       "      <td>1079.06763</td>\n",
       "      <td>87.50231</td>\n",
       "      <td>40.42238</td>\n",
       "    </tr>\n",
       "    <tr>\n",
       "      <th>std</th>\n",
       "      <td>13.71051</td>\n",
       "      <td>105604.02542</td>\n",
       "      <td>2.57097</td>\n",
       "      <td>7452.01906</td>\n",
       "      <td>403.00455</td>\n",
       "      <td>12.39144</td>\n",
       "    </tr>\n",
       "    <tr>\n",
       "      <th>min</th>\n",
       "      <td>17.00000</td>\n",
       "      <td>12285.00000</td>\n",
       "      <td>1.00000</td>\n",
       "      <td>0.00000</td>\n",
       "      <td>0.00000</td>\n",
       "      <td>1.00000</td>\n",
       "    </tr>\n",
       "    <tr>\n",
       "      <th>25%</th>\n",
       "      <td>28.00000</td>\n",
       "      <td>117550.50000</td>\n",
       "      <td>9.00000</td>\n",
       "      <td>0.00000</td>\n",
       "      <td>0.00000</td>\n",
       "      <td>40.00000</td>\n",
       "    </tr>\n",
       "    <tr>\n",
       "      <th>50%</th>\n",
       "      <td>37.00000</td>\n",
       "      <td>178144.50000</td>\n",
       "      <td>10.00000</td>\n",
       "      <td>0.00000</td>\n",
       "      <td>0.00000</td>\n",
       "      <td>40.00000</td>\n",
       "    </tr>\n",
       "    <tr>\n",
       "      <th>75%</th>\n",
       "      <td>48.00000</td>\n",
       "      <td>237642.00000</td>\n",
       "      <td>12.00000</td>\n",
       "      <td>0.00000</td>\n",
       "      <td>0.00000</td>\n",
       "      <td>45.00000</td>\n",
       "    </tr>\n",
       "    <tr>\n",
       "      <th>max</th>\n",
       "      <td>90.00000</td>\n",
       "      <td>1490400.00000</td>\n",
       "      <td>16.00000</td>\n",
       "      <td>99999.00000</td>\n",
       "      <td>4356.00000</td>\n",
       "      <td>99.00000</td>\n",
       "    </tr>\n",
       "  </tbody>\n",
       "</table>\n",
       "</div>"
      ],
      "text/plain": [
       "              age        fnlwgt  educational-num  capital-gain  capital-loss  \\\n",
       "count 48842.00000   48842.00000      48842.00000   48842.00000   48842.00000   \n",
       "mean     38.64359  189664.13460         10.07809    1079.06763      87.50231   \n",
       "std      13.71051  105604.02542          2.57097    7452.01906     403.00455   \n",
       "min      17.00000   12285.00000          1.00000       0.00000       0.00000   \n",
       "25%      28.00000  117550.50000          9.00000       0.00000       0.00000   \n",
       "50%      37.00000  178144.50000         10.00000       0.00000       0.00000   \n",
       "75%      48.00000  237642.00000         12.00000       0.00000       0.00000   \n",
       "max      90.00000 1490400.00000         16.00000   99999.00000    4356.00000   \n",
       "\n",
       "       hours-per-week  \n",
       "count     48842.00000  \n",
       "mean         40.42238  \n",
       "std          12.39144  \n",
       "min           1.00000  \n",
       "25%          40.00000  \n",
       "50%          40.00000  \n",
       "75%          45.00000  \n",
       "max          99.00000  "
      ]
     },
     "execution_count": 10,
     "metadata": {},
     "output_type": "execute_result"
    }
   ],
   "source": [
    "data.describe()"
   ]
  },
  {
   "cell_type": "markdown",
   "id": "70a0f392",
   "metadata": {},
   "source": [
    "### **Data Information**"
   ]
  },
  {
   "cell_type": "code",
   "execution_count": 11,
   "id": "f98e64a7",
   "metadata": {
    "ExecuteTime": {
     "end_time": "2023-01-24T10:00:22.211843Z",
     "start_time": "2023-01-24T10:00:22.033046Z"
    }
   },
   "outputs": [
    {
     "name": "stdout",
     "output_type": "stream",
     "text": [
      "<class 'pandas.core.frame.DataFrame'>\n",
      "RangeIndex: 48842 entries, 0 to 48841\n",
      "Data columns (total 15 columns):\n",
      " #   Column           Non-Null Count  Dtype \n",
      "---  ------           --------------  ----- \n",
      " 0   age              48842 non-null  int64 \n",
      " 1   workclass        48842 non-null  object\n",
      " 2   fnlwgt           48842 non-null  int64 \n",
      " 3   education        48842 non-null  object\n",
      " 4   educational-num  48842 non-null  int64 \n",
      " 5   marital-status   48842 non-null  object\n",
      " 6   occupation       48842 non-null  object\n",
      " 7   relationship     48842 non-null  object\n",
      " 8   race             48842 non-null  object\n",
      " 9   gender           48842 non-null  object\n",
      " 10  capital-gain     48842 non-null  int64 \n",
      " 11  capital-loss     48842 non-null  int64 \n",
      " 12  hours-per-week   48842 non-null  int64 \n",
      " 13  native-country   48842 non-null  object\n",
      " 14  income           48842 non-null  object\n",
      "dtypes: int64(6), object(9)\n",
      "memory usage: 5.6+ MB\n"
     ]
    }
   ],
   "source": [
    "data.info()"
   ]
  },
  {
   "cell_type": "code",
   "execution_count": 12,
   "id": "4937cb09",
   "metadata": {
    "ExecuteTime": {
     "end_time": "2023-01-24T10:00:22.307426Z",
     "start_time": "2023-01-24T10:00:22.211843Z"
    }
   },
   "outputs": [
    {
     "data": {
      "text/html": [
       "<div>\n",
       "<style scoped>\n",
       "    .dataframe tbody tr th:only-of-type {\n",
       "        vertical-align: middle;\n",
       "    }\n",
       "\n",
       "    .dataframe tbody tr th {\n",
       "        vertical-align: top;\n",
       "    }\n",
       "\n",
       "    .dataframe thead th {\n",
       "        text-align: right;\n",
       "    }\n",
       "</style>\n",
       "<table border=\"1\" class=\"dataframe\">\n",
       "  <thead>\n",
       "    <tr style=\"text-align: right;\">\n",
       "      <th></th>\n",
       "      <th>age</th>\n",
       "      <th>fnlwgt</th>\n",
       "      <th>educational-num</th>\n",
       "      <th>capital-gain</th>\n",
       "      <th>capital-loss</th>\n",
       "      <th>hours-per-week</th>\n",
       "    </tr>\n",
       "  </thead>\n",
       "  <tbody>\n",
       "    <tr>\n",
       "      <th>count</th>\n",
       "      <td>48842.00000</td>\n",
       "      <td>48842.00000</td>\n",
       "      <td>48842.00000</td>\n",
       "      <td>48842.00000</td>\n",
       "      <td>48842.00000</td>\n",
       "      <td>48842.00000</td>\n",
       "    </tr>\n",
       "    <tr>\n",
       "      <th>mean</th>\n",
       "      <td>38.64359</td>\n",
       "      <td>189664.13460</td>\n",
       "      <td>10.07809</td>\n",
       "      <td>1079.06763</td>\n",
       "      <td>87.50231</td>\n",
       "      <td>40.42238</td>\n",
       "    </tr>\n",
       "    <tr>\n",
       "      <th>std</th>\n",
       "      <td>13.71051</td>\n",
       "      <td>105604.02542</td>\n",
       "      <td>2.57097</td>\n",
       "      <td>7452.01906</td>\n",
       "      <td>403.00455</td>\n",
       "      <td>12.39144</td>\n",
       "    </tr>\n",
       "    <tr>\n",
       "      <th>min</th>\n",
       "      <td>17.00000</td>\n",
       "      <td>12285.00000</td>\n",
       "      <td>1.00000</td>\n",
       "      <td>0.00000</td>\n",
       "      <td>0.00000</td>\n",
       "      <td>1.00000</td>\n",
       "    </tr>\n",
       "    <tr>\n",
       "      <th>25%</th>\n",
       "      <td>28.00000</td>\n",
       "      <td>117550.50000</td>\n",
       "      <td>9.00000</td>\n",
       "      <td>0.00000</td>\n",
       "      <td>0.00000</td>\n",
       "      <td>40.00000</td>\n",
       "    </tr>\n",
       "    <tr>\n",
       "      <th>50%</th>\n",
       "      <td>37.00000</td>\n",
       "      <td>178144.50000</td>\n",
       "      <td>10.00000</td>\n",
       "      <td>0.00000</td>\n",
       "      <td>0.00000</td>\n",
       "      <td>40.00000</td>\n",
       "    </tr>\n",
       "    <tr>\n",
       "      <th>75%</th>\n",
       "      <td>48.00000</td>\n",
       "      <td>237642.00000</td>\n",
       "      <td>12.00000</td>\n",
       "      <td>0.00000</td>\n",
       "      <td>0.00000</td>\n",
       "      <td>45.00000</td>\n",
       "    </tr>\n",
       "    <tr>\n",
       "      <th>max</th>\n",
       "      <td>90.00000</td>\n",
       "      <td>1490400.00000</td>\n",
       "      <td>16.00000</td>\n",
       "      <td>99999.00000</td>\n",
       "      <td>4356.00000</td>\n",
       "      <td>99.00000</td>\n",
       "    </tr>\n",
       "  </tbody>\n",
       "</table>\n",
       "</div>"
      ],
      "text/plain": [
       "              age        fnlwgt  educational-num  capital-gain  capital-loss  \\\n",
       "count 48842.00000   48842.00000      48842.00000   48842.00000   48842.00000   \n",
       "mean     38.64359  189664.13460         10.07809    1079.06763      87.50231   \n",
       "std      13.71051  105604.02542          2.57097    7452.01906     403.00455   \n",
       "min      17.00000   12285.00000          1.00000       0.00000       0.00000   \n",
       "25%      28.00000  117550.50000          9.00000       0.00000       0.00000   \n",
       "50%      37.00000  178144.50000         10.00000       0.00000       0.00000   \n",
       "75%      48.00000  237642.00000         12.00000       0.00000       0.00000   \n",
       "max      90.00000 1490400.00000         16.00000   99999.00000    4356.00000   \n",
       "\n",
       "       hours-per-week  \n",
       "count     48842.00000  \n",
       "mean         40.42238  \n",
       "std          12.39144  \n",
       "min           1.00000  \n",
       "25%          40.00000  \n",
       "50%          40.00000  \n",
       "75%          45.00000  \n",
       "max          99.00000  "
      ]
     },
     "execution_count": 12,
     "metadata": {},
     "output_type": "execute_result"
    }
   ],
   "source": [
    "data.describe()"
   ]
  },
  {
   "cell_type": "markdown",
   "id": "1cbcb5e5",
   "metadata": {},
   "source": [
    "---\n",
    "<a name = Section5></a>\n",
    "# **5. Data Pre-Profiling**\n",
    "---\n",
    "\n",
    "- This section is emphasised on getting a report about the data.\n",
    "\n",
    "- You need to perform pandas profiling and get some observations out of it..."
   ]
  },
  {
   "cell_type": "code",
   "execution_count": 13,
   "id": "94f6ab56",
   "metadata": {
    "ExecuteTime": {
     "end_time": "2023-01-24T10:00:22.489071Z",
     "start_time": "2023-01-24T10:00:22.307426Z"
    }
   },
   "outputs": [
    {
     "data": {
      "text/plain": [
       "age                0\n",
       "workclass          0\n",
       "fnlwgt             0\n",
       "education          0\n",
       "educational-num    0\n",
       "marital-status     0\n",
       "occupation         0\n",
       "relationship       0\n",
       "race               0\n",
       "gender             0\n",
       "capital-gain       0\n",
       "capital-loss       0\n",
       "hours-per-week     0\n",
       "native-country     0\n",
       "income             0\n",
       "dtype: int64"
      ]
     },
     "execution_count": 13,
     "metadata": {},
     "output_type": "execute_result"
    }
   ],
   "source": [
    "data.isnull().sum()"
   ]
  },
  {
   "cell_type": "code",
   "execution_count": 14,
   "id": "a5ddb339",
   "metadata": {
    "ExecuteTime": {
     "end_time": "2023-01-24T10:00:22.612667Z",
     "start_time": "2023-01-24T10:00:22.490070Z"
    }
   },
   "outputs": [
    {
     "data": {
      "text/plain": [
       "52"
      ]
     },
     "execution_count": 14,
     "metadata": {},
     "output_type": "execute_result"
    }
   ],
   "source": [
    "data.duplicated().sum()"
   ]
  },
  {
   "cell_type": "code",
   "execution_count": 15,
   "id": "9e4040c7",
   "metadata": {
    "ExecuteTime": {
     "end_time": "2023-01-24T10:00:22.738828Z",
     "start_time": "2023-01-24T10:00:22.612667Z"
    }
   },
   "outputs": [],
   "source": [
    "data.drop_duplicates(inplace=True)"
   ]
  },
  {
   "cell_type": "code",
   "execution_count": 16,
   "id": "2175bae8",
   "metadata": {
    "ExecuteTime": {
     "end_time": "2023-01-24T10:00:22.858948Z",
     "start_time": "2023-01-24T10:00:22.738828Z"
    }
   },
   "outputs": [
    {
     "data": {
      "text/plain": [
       "0"
      ]
     },
     "execution_count": 16,
     "metadata": {},
     "output_type": "execute_result"
    }
   ],
   "source": [
    "data.duplicated().sum()"
   ]
  },
  {
   "cell_type": "code",
   "execution_count": 17,
   "id": "612a92a7",
   "metadata": {
    "ExecuteTime": {
     "end_time": "2023-01-24T10:00:22.955945Z",
     "start_time": "2023-01-24T10:00:22.864529Z"
    }
   },
   "outputs": [
    {
     "data": {
      "text/plain": [
       "age                   74\n",
       "workclass              9\n",
       "fnlwgt             28523\n",
       "education             16\n",
       "educational-num       16\n",
       "marital-status         7\n",
       "occupation            15\n",
       "relationship           6\n",
       "race                   5\n",
       "gender                 2\n",
       "capital-gain         123\n",
       "capital-loss          99\n",
       "hours-per-week        96\n",
       "native-country        42\n",
       "income                 2\n",
       "dtype: int64"
      ]
     },
     "execution_count": 17,
     "metadata": {},
     "output_type": "execute_result"
    }
   ],
   "source": [
    "data.nunique()"
   ]
  },
  {
   "cell_type": "code",
   "execution_count": 18,
   "id": "c2683976",
   "metadata": {
    "ExecuteTime": {
     "end_time": "2023-01-24T10:00:22.991250Z",
     "start_time": "2023-01-24T10:00:22.955945Z"
    }
   },
   "outputs": [
    {
     "data": {
      "text/plain": [
       "Private             33860\n",
       "Self-emp-not-inc     3861\n",
       "Local-gov            3136\n",
       "?                    2795\n",
       "State-gov            1981\n",
       "Self-emp-inc         1694\n",
       "Federal-gov          1432\n",
       "Without-pay            21\n",
       "Never-worked           10\n",
       "Name: workclass, dtype: int64"
      ]
     },
     "execution_count": 18,
     "metadata": {},
     "output_type": "execute_result"
    }
   ],
   "source": [
    "data['workclass'].value_counts()"
   ]
  },
  {
   "cell_type": "code",
   "execution_count": 19,
   "id": "262bd15e",
   "metadata": {
    "ExecuteTime": {
     "end_time": "2023-01-24T10:00:23.089011Z",
     "start_time": "2023-01-24T10:00:22.991250Z"
    }
   },
   "outputs": [
    {
     "data": {
      "text/plain": [
       "age                   0\n",
       "workclass          2795\n",
       "fnlwgt                0\n",
       "education             0\n",
       "educational-num       0\n",
       "marital-status        0\n",
       "occupation         2805\n",
       "relationship          0\n",
       "race                  0\n",
       "gender                0\n",
       "capital-gain          0\n",
       "capital-loss          0\n",
       "hours-per-week        0\n",
       "native-country      856\n",
       "income                0\n",
       "dtype: int64"
      ]
     },
     "execution_count": 19,
     "metadata": {},
     "output_type": "execute_result"
    }
   ],
   "source": [
    "data.isin(['?']).sum()"
   ]
  },
  {
   "cell_type": "code",
   "execution_count": 20,
   "id": "6d952345",
   "metadata": {
    "ExecuteTime": {
     "end_time": "2023-01-24T10:00:23.145061Z",
     "start_time": "2023-01-24T10:00:23.092124Z"
    }
   },
   "outputs": [],
   "source": [
    "data['workclass']=data['workclass'].replace(\"?\",np.nan )\n",
    "data['occupation']=data['occupation'].replace(\"?\",np.nan )\n",
    "data['native-country']=data['native-country'].replace(\"?\",np.nan )"
   ]
  },
  {
   "cell_type": "code",
   "execution_count": 21,
   "id": "c419ceb3",
   "metadata": {
    "ExecuteTime": {
     "end_time": "2023-01-24T10:00:23.183218Z",
     "start_time": "2023-01-24T10:00:23.145061Z"
    }
   },
   "outputs": [
    {
     "data": {
      "text/plain": [
       "(2795, 2805, 856)"
      ]
     },
     "execution_count": 21,
     "metadata": {},
     "output_type": "execute_result"
    }
   ],
   "source": [
    "data['workclass'].isnull().sum(),data['occupation'].isnull().sum(),data['native-country'].isnull().sum()"
   ]
  },
  {
   "cell_type": "code",
   "execution_count": 22,
   "id": "15ee781d",
   "metadata": {
    "ExecuteTime": {
     "end_time": "2023-01-24T10:00:23.349441Z",
     "start_time": "2023-01-24T10:00:23.183218Z"
    }
   },
   "outputs": [
    {
     "data": {
      "text/plain": [
       "age               0.00000\n",
       "workclass         5.72863\n",
       "fnlwgt            0.00000\n",
       "education         0.00000\n",
       "educational-num   0.00000\n",
       "marital-status    0.00000\n",
       "occupation        5.74913\n",
       "relationship      0.00000\n",
       "race              0.00000\n",
       "gender            0.00000\n",
       "capital-gain      0.00000\n",
       "capital-loss      0.00000\n",
       "hours-per-week    0.00000\n",
       "native-country    1.75446\n",
       "income            0.00000\n",
       "dtype: float64"
      ]
     },
     "execution_count": 22,
     "metadata": {},
     "output_type": "execute_result"
    }
   ],
   "source": [
    "(data.isnull().sum()/len(data))*100"
   ]
  },
  {
   "cell_type": "markdown",
   "id": "78baad73",
   "metadata": {},
   "source": [
    "---\n",
    "<a name = Section6></a>\n",
    "# **6. Data Pre-Processing**\n",
    "---\n",
    "\n",
    "- This section is emphasised on performing data manipulation over unstructured data for further processing and analysis.\n",
    "\n",
    "- To modify unstructured data to strucuted data you need to verify and manipulate the integrity of the data by:\n",
    "  - Handling missing data,\n",
    "\n",
    "  - Handling redundant data,\n",
    "\n",
    "  - Handling inconsistent data,\n",
    "\n",
    "  - Handling typos"
   ]
  },
  {
   "cell_type": "markdown",
   "id": "3b0cedd6",
   "metadata": {},
   "source": [
    "## Null value is very less % so  Drop it ."
   ]
  },
  {
   "cell_type": "code",
   "execution_count": 23,
   "id": "037f1656",
   "metadata": {
    "ExecuteTime": {
     "end_time": "2023-01-24T10:00:23.517431Z",
     "start_time": "2023-01-24T10:00:23.350434Z"
    }
   },
   "outputs": [],
   "source": [
    "data.dropna(how='any' ,inplace=True)"
   ]
  },
  {
   "cell_type": "code",
   "execution_count": 24,
   "id": "3f5bd07d",
   "metadata": {
    "ExecuteTime": {
     "end_time": "2023-01-24T10:00:23.675989Z",
     "start_time": "2023-01-24T10:00:23.517431Z"
    }
   },
   "outputs": [
    {
     "data": {
      "text/plain": [
       "age                0\n",
       "workclass          0\n",
       "fnlwgt             0\n",
       "education          0\n",
       "educational-num    0\n",
       "marital-status     0\n",
       "occupation         0\n",
       "relationship       0\n",
       "race               0\n",
       "gender             0\n",
       "capital-gain       0\n",
       "capital-loss       0\n",
       "hours-per-week     0\n",
       "native-country     0\n",
       "income             0\n",
       "dtype: int64"
      ]
     },
     "execution_count": 24,
     "metadata": {},
     "output_type": "execute_result"
    }
   ],
   "source": [
    "data.isnull().sum()"
   ]
  },
  {
   "cell_type": "code",
   "execution_count": 25,
   "id": "a92e8f72",
   "metadata": {
    "ExecuteTime": {
     "end_time": "2023-01-24T10:00:23.705335Z",
     "start_time": "2023-01-24T10:00:23.675989Z"
    }
   },
   "outputs": [
    {
     "data": {
      "text/plain": [
       "(45175, 15)"
      ]
     },
     "execution_count": 25,
     "metadata": {},
     "output_type": "execute_result"
    }
   ],
   "source": [
    "data.shape"
   ]
  },
  {
   "cell_type": "code",
   "execution_count": 26,
   "id": "e3826dfc",
   "metadata": {
    "ExecuteTime": {
     "end_time": "2023-01-24T10:00:23.823370Z",
     "start_time": "2023-01-24T10:00:23.706298Z"
    }
   },
   "outputs": [
    {
     "data": {
      "text/plain": [
       "0"
      ]
     },
     "execution_count": 26,
     "metadata": {},
     "output_type": "execute_result"
    }
   ],
   "source": [
    "data.duplicated().sum()"
   ]
  },
  {
   "cell_type": "code",
   "execution_count": 27,
   "id": "1691959b",
   "metadata": {
    "ExecuteTime": {
     "end_time": "2023-01-24T10:00:23.915850Z",
     "start_time": "2023-01-24T10:00:23.836750Z"
    }
   },
   "outputs": [
    {
     "data": {
      "text/html": [
       "<div>\n",
       "<style scoped>\n",
       "    .dataframe tbody tr th:only-of-type {\n",
       "        vertical-align: middle;\n",
       "    }\n",
       "\n",
       "    .dataframe tbody tr th {\n",
       "        vertical-align: top;\n",
       "    }\n",
       "\n",
       "    .dataframe thead th {\n",
       "        text-align: right;\n",
       "    }\n",
       "</style>\n",
       "<table border=\"1\" class=\"dataframe\">\n",
       "  <thead>\n",
       "    <tr style=\"text-align: right;\">\n",
       "      <th></th>\n",
       "      <th>age</th>\n",
       "      <th>fnlwgt</th>\n",
       "      <th>educational-num</th>\n",
       "      <th>capital-gain</th>\n",
       "      <th>capital-loss</th>\n",
       "      <th>hours-per-week</th>\n",
       "    </tr>\n",
       "  </thead>\n",
       "  <tbody>\n",
       "    <tr>\n",
       "      <th>count</th>\n",
       "      <td>45175.00000</td>\n",
       "      <td>45175.00000</td>\n",
       "      <td>45175.00000</td>\n",
       "      <td>45175.00000</td>\n",
       "      <td>45175.00000</td>\n",
       "      <td>45175.00000</td>\n",
       "    </tr>\n",
       "    <tr>\n",
       "      <th>mean</th>\n",
       "      <td>38.55617</td>\n",
       "      <td>189738.79845</td>\n",
       "      <td>10.11931</td>\n",
       "      <td>1102.57627</td>\n",
       "      <td>88.68759</td>\n",
       "      <td>40.94251</td>\n",
       "    </tr>\n",
       "    <tr>\n",
       "      <th>std</th>\n",
       "      <td>13.21535</td>\n",
       "      <td>105652.43651</td>\n",
       "      <td>2.55174</td>\n",
       "      <td>7510.24988</td>\n",
       "      <td>405.15661</td>\n",
       "      <td>12.00773</td>\n",
       "    </tr>\n",
       "    <tr>\n",
       "      <th>min</th>\n",
       "      <td>17.00000</td>\n",
       "      <td>13492.00000</td>\n",
       "      <td>1.00000</td>\n",
       "      <td>0.00000</td>\n",
       "      <td>0.00000</td>\n",
       "      <td>1.00000</td>\n",
       "    </tr>\n",
       "    <tr>\n",
       "      <th>25%</th>\n",
       "      <td>28.00000</td>\n",
       "      <td>117392.50000</td>\n",
       "      <td>9.00000</td>\n",
       "      <td>0.00000</td>\n",
       "      <td>0.00000</td>\n",
       "      <td>40.00000</td>\n",
       "    </tr>\n",
       "    <tr>\n",
       "      <th>50%</th>\n",
       "      <td>37.00000</td>\n",
       "      <td>178312.00000</td>\n",
       "      <td>10.00000</td>\n",
       "      <td>0.00000</td>\n",
       "      <td>0.00000</td>\n",
       "      <td>40.00000</td>\n",
       "    </tr>\n",
       "    <tr>\n",
       "      <th>75%</th>\n",
       "      <td>47.00000</td>\n",
       "      <td>237903.00000</td>\n",
       "      <td>13.00000</td>\n",
       "      <td>0.00000</td>\n",
       "      <td>0.00000</td>\n",
       "      <td>45.00000</td>\n",
       "    </tr>\n",
       "    <tr>\n",
       "      <th>max</th>\n",
       "      <td>90.00000</td>\n",
       "      <td>1490400.00000</td>\n",
       "      <td>16.00000</td>\n",
       "      <td>99999.00000</td>\n",
       "      <td>4356.00000</td>\n",
       "      <td>99.00000</td>\n",
       "    </tr>\n",
       "  </tbody>\n",
       "</table>\n",
       "</div>"
      ],
      "text/plain": [
       "              age        fnlwgt  educational-num  capital-gain  capital-loss  \\\n",
       "count 45175.00000   45175.00000      45175.00000   45175.00000   45175.00000   \n",
       "mean     38.55617  189738.79845         10.11931    1102.57627      88.68759   \n",
       "std      13.21535  105652.43651          2.55174    7510.24988     405.15661   \n",
       "min      17.00000   13492.00000          1.00000       0.00000       0.00000   \n",
       "25%      28.00000  117392.50000          9.00000       0.00000       0.00000   \n",
       "50%      37.00000  178312.00000         10.00000       0.00000       0.00000   \n",
       "75%      47.00000  237903.00000         13.00000       0.00000       0.00000   \n",
       "max      90.00000 1490400.00000         16.00000   99999.00000    4356.00000   \n",
       "\n",
       "       hours-per-week  \n",
       "count     45175.00000  \n",
       "mean         40.94251  \n",
       "std          12.00773  \n",
       "min           1.00000  \n",
       "25%          40.00000  \n",
       "50%          40.00000  \n",
       "75%          45.00000  \n",
       "max          99.00000  "
      ]
     },
     "execution_count": 27,
     "metadata": {},
     "output_type": "execute_result"
    }
   ],
   "source": [
    "data.describe()"
   ]
  },
  {
   "cell_type": "code",
   "execution_count": 28,
   "id": "9cc3f7bc",
   "metadata": {
    "ExecuteTime": {
     "end_time": "2023-01-24T10:00:23.955735Z",
     "start_time": "2023-01-24T10:00:23.920644Z"
    }
   },
   "outputs": [
    {
     "data": {
      "text/html": [
       "<div>\n",
       "<style scoped>\n",
       "    .dataframe tbody tr th:only-of-type {\n",
       "        vertical-align: middle;\n",
       "    }\n",
       "\n",
       "    .dataframe tbody tr th {\n",
       "        vertical-align: top;\n",
       "    }\n",
       "\n",
       "    .dataframe thead th {\n",
       "        text-align: right;\n",
       "    }\n",
       "</style>\n",
       "<table border=\"1\" class=\"dataframe\">\n",
       "  <thead>\n",
       "    <tr style=\"text-align: right;\">\n",
       "      <th></th>\n",
       "      <th>age</th>\n",
       "      <th>workclass</th>\n",
       "      <th>fnlwgt</th>\n",
       "      <th>education</th>\n",
       "      <th>educational-num</th>\n",
       "      <th>marital-status</th>\n",
       "      <th>occupation</th>\n",
       "      <th>relationship</th>\n",
       "      <th>race</th>\n",
       "      <th>gender</th>\n",
       "      <th>capital-gain</th>\n",
       "      <th>capital-loss</th>\n",
       "      <th>hours-per-week</th>\n",
       "      <th>native-country</th>\n",
       "      <th>income</th>\n",
       "    </tr>\n",
       "  </thead>\n",
       "  <tbody>\n",
       "    <tr>\n",
       "      <th>0</th>\n",
       "      <td>25</td>\n",
       "      <td>Private</td>\n",
       "      <td>226802</td>\n",
       "      <td>11th</td>\n",
       "      <td>7</td>\n",
       "      <td>Never-married</td>\n",
       "      <td>Machine-op-inspct</td>\n",
       "      <td>Own-child</td>\n",
       "      <td>Black</td>\n",
       "      <td>Male</td>\n",
       "      <td>0</td>\n",
       "      <td>0</td>\n",
       "      <td>40</td>\n",
       "      <td>United-States</td>\n",
       "      <td>&lt;=50K</td>\n",
       "    </tr>\n",
       "    <tr>\n",
       "      <th>1</th>\n",
       "      <td>38</td>\n",
       "      <td>Private</td>\n",
       "      <td>89814</td>\n",
       "      <td>HS-grad</td>\n",
       "      <td>9</td>\n",
       "      <td>Married-civ-spouse</td>\n",
       "      <td>Farming-fishing</td>\n",
       "      <td>Husband</td>\n",
       "      <td>White</td>\n",
       "      <td>Male</td>\n",
       "      <td>0</td>\n",
       "      <td>0</td>\n",
       "      <td>50</td>\n",
       "      <td>United-States</td>\n",
       "      <td>&lt;=50K</td>\n",
       "    </tr>\n",
       "    <tr>\n",
       "      <th>2</th>\n",
       "      <td>28</td>\n",
       "      <td>Local-gov</td>\n",
       "      <td>336951</td>\n",
       "      <td>Assoc-acdm</td>\n",
       "      <td>12</td>\n",
       "      <td>Married-civ-spouse</td>\n",
       "      <td>Protective-serv</td>\n",
       "      <td>Husband</td>\n",
       "      <td>White</td>\n",
       "      <td>Male</td>\n",
       "      <td>0</td>\n",
       "      <td>0</td>\n",
       "      <td>40</td>\n",
       "      <td>United-States</td>\n",
       "      <td>&gt;50K</td>\n",
       "    </tr>\n",
       "    <tr>\n",
       "      <th>3</th>\n",
       "      <td>44</td>\n",
       "      <td>Private</td>\n",
       "      <td>160323</td>\n",
       "      <td>Some-college</td>\n",
       "      <td>10</td>\n",
       "      <td>Married-civ-spouse</td>\n",
       "      <td>Machine-op-inspct</td>\n",
       "      <td>Husband</td>\n",
       "      <td>Black</td>\n",
       "      <td>Male</td>\n",
       "      <td>7688</td>\n",
       "      <td>0</td>\n",
       "      <td>40</td>\n",
       "      <td>United-States</td>\n",
       "      <td>&gt;50K</td>\n",
       "    </tr>\n",
       "    <tr>\n",
       "      <th>5</th>\n",
       "      <td>34</td>\n",
       "      <td>Private</td>\n",
       "      <td>198693</td>\n",
       "      <td>10th</td>\n",
       "      <td>6</td>\n",
       "      <td>Never-married</td>\n",
       "      <td>Other-service</td>\n",
       "      <td>Not-in-family</td>\n",
       "      <td>White</td>\n",
       "      <td>Male</td>\n",
       "      <td>0</td>\n",
       "      <td>0</td>\n",
       "      <td>30</td>\n",
       "      <td>United-States</td>\n",
       "      <td>&lt;=50K</td>\n",
       "    </tr>\n",
       "  </tbody>\n",
       "</table>\n",
       "</div>"
      ],
      "text/plain": [
       "   age  workclass  fnlwgt     education  educational-num      marital-status  \\\n",
       "0   25    Private  226802          11th                7       Never-married   \n",
       "1   38    Private   89814       HS-grad                9  Married-civ-spouse   \n",
       "2   28  Local-gov  336951    Assoc-acdm               12  Married-civ-spouse   \n",
       "3   44    Private  160323  Some-college               10  Married-civ-spouse   \n",
       "5   34    Private  198693          10th                6       Never-married   \n",
       "\n",
       "          occupation   relationship   race gender  capital-gain  capital-loss  \\\n",
       "0  Machine-op-inspct      Own-child  Black   Male             0             0   \n",
       "1    Farming-fishing        Husband  White   Male             0             0   \n",
       "2    Protective-serv        Husband  White   Male             0             0   \n",
       "3  Machine-op-inspct        Husband  Black   Male          7688             0   \n",
       "5      Other-service  Not-in-family  White   Male             0             0   \n",
       "\n",
       "   hours-per-week native-country income  \n",
       "0              40  United-States  <=50K  \n",
       "1              50  United-States  <=50K  \n",
       "2              40  United-States   >50K  \n",
       "3              40  United-States   >50K  \n",
       "5              30  United-States  <=50K  "
      ]
     },
     "execution_count": 28,
     "metadata": {},
     "output_type": "execute_result"
    }
   ],
   "source": [
    "data.head()"
   ]
  },
  {
   "cell_type": "markdown",
   "id": "a6eaca2c",
   "metadata": {},
   "source": [
    "---\n",
    "<a name = Section7></a>\n",
    "# **7. Data Post-Profiling**\n",
    "---\n",
    "\n",
    "- This section is emphasised on getting a report about the data after the data manipulation.\n",
    "\n",
    "- You may end up observing some new changes, so keep it under check and make right observations."
   ]
  },
  {
   "cell_type": "code",
   "execution_count": 29,
   "id": "068da101",
   "metadata": {
    "ExecuteTime": {
     "end_time": "2023-01-24T10:00:23.981056Z",
     "start_time": "2023-01-24T10:00:23.957728Z"
    }
   },
   "outputs": [
    {
     "data": {
      "text/plain": [
       "Index(['age', 'workclass', 'fnlwgt', 'education', 'educational-num',\n",
       "       'marital-status', 'occupation', 'relationship', 'race', 'gender',\n",
       "       'capital-gain', 'capital-loss', 'hours-per-week', 'native-country',\n",
       "       'income'],\n",
       "      dtype='object')"
      ]
     },
     "execution_count": 29,
     "metadata": {},
     "output_type": "execute_result"
    }
   ],
   "source": [
    "data.columns"
   ]
  },
  {
   "cell_type": "code",
   "execution_count": 30,
   "id": "4e33141c",
   "metadata": {
    "ExecuteTime": {
     "end_time": "2023-01-24T10:00:24.005736Z",
     "start_time": "2023-01-24T10:00:23.985961Z"
    }
   },
   "outputs": [
    {
     "data": {
      "text/plain": [
       "array(['11th', 'HS-grad', 'Assoc-acdm', 'Some-college', '10th',\n",
       "       'Prof-school', '7th-8th', 'Bachelors', 'Masters', '5th-6th',\n",
       "       'Assoc-voc', '9th', 'Doctorate', '12th', '1st-4th', 'Preschool'],\n",
       "      dtype=object)"
      ]
     },
     "execution_count": 30,
     "metadata": {},
     "output_type": "execute_result"
    }
   ],
   "source": [
    "data[\"education\"].unique()"
   ]
  },
  {
   "cell_type": "code",
   "execution_count": 31,
   "id": "5df8e296",
   "metadata": {
    "ExecuteTime": {
     "end_time": "2023-01-24T10:00:24.035139Z",
     "start_time": "2023-01-24T10:00:24.009642Z"
    }
   },
   "outputs": [
    {
     "data": {
      "text/plain": [
       "array([ 7,  9, 12, 10,  6, 15,  4, 13, 14,  3, 11,  5, 16,  8,  2,  1],\n",
       "      dtype=int64)"
      ]
     },
     "execution_count": 31,
     "metadata": {},
     "output_type": "execute_result"
    }
   ],
   "source": [
    "data['educational-num'].unique()"
   ]
  },
  {
   "cell_type": "code",
   "execution_count": 32,
   "id": "93f64c4c",
   "metadata": {
    "ExecuteTime": {
     "end_time": "2023-01-24T10:00:24.069783Z",
     "start_time": "2023-01-24T10:00:24.040545Z"
    }
   },
   "outputs": [],
   "source": [
    "# drop Education-num ,Capital-gain,Capital-loss column .\n",
    "#Beacause Education-num and Education are very much similar.\n",
    "#capital-loss and capital-gain have mare than 75% value are Zero\n",
    "data.drop(['educational-num','capital-gain','capital-loss'],axis=1,inplace=True)"
   ]
  },
  {
   "cell_type": "markdown",
   "id": "1fe35bdb",
   "metadata": {},
   "source": [
    "---\n",
    "<a name = Section8></a>\n",
    "# **8. Exploratory Data Analysis**\n",
    "---\n",
    "\n",
    "- This section is emphasised on asking the right questions and perform analysis using the data.\n",
    "\n",
    "- Note that there is no limit how deep you can go, but make sure not to get distracted from right track."
   ]
  },
  {
   "cell_type": "code",
   "execution_count": 33,
   "id": "08388ce8",
   "metadata": {
    "ExecuteTime": {
     "end_time": "2023-01-24T10:00:24.116850Z",
     "start_time": "2023-01-24T10:00:24.069783Z"
    }
   },
   "outputs": [
    {
     "data": {
      "text/html": [
       "<div>\n",
       "<style scoped>\n",
       "    .dataframe tbody tr th:only-of-type {\n",
       "        vertical-align: middle;\n",
       "    }\n",
       "\n",
       "    .dataframe tbody tr th {\n",
       "        vertical-align: top;\n",
       "    }\n",
       "\n",
       "    .dataframe thead th {\n",
       "        text-align: right;\n",
       "    }\n",
       "</style>\n",
       "<table border=\"1\" class=\"dataframe\">\n",
       "  <thead>\n",
       "    <tr style=\"text-align: right;\">\n",
       "      <th></th>\n",
       "      <th>age</th>\n",
       "      <th>workclass</th>\n",
       "      <th>fnlwgt</th>\n",
       "      <th>education</th>\n",
       "      <th>marital-status</th>\n",
       "      <th>occupation</th>\n",
       "      <th>relationship</th>\n",
       "      <th>race</th>\n",
       "      <th>gender</th>\n",
       "      <th>hours-per-week</th>\n",
       "      <th>native-country</th>\n",
       "      <th>income</th>\n",
       "    </tr>\n",
       "  </thead>\n",
       "  <tbody>\n",
       "    <tr>\n",
       "      <th>0</th>\n",
       "      <td>25</td>\n",
       "      <td>Private</td>\n",
       "      <td>226802</td>\n",
       "      <td>11th</td>\n",
       "      <td>Never-married</td>\n",
       "      <td>Machine-op-inspct</td>\n",
       "      <td>Own-child</td>\n",
       "      <td>Black</td>\n",
       "      <td>Male</td>\n",
       "      <td>40</td>\n",
       "      <td>United-States</td>\n",
       "      <td>&lt;=50K</td>\n",
       "    </tr>\n",
       "    <tr>\n",
       "      <th>1</th>\n",
       "      <td>38</td>\n",
       "      <td>Private</td>\n",
       "      <td>89814</td>\n",
       "      <td>HS-grad</td>\n",
       "      <td>Married-civ-spouse</td>\n",
       "      <td>Farming-fishing</td>\n",
       "      <td>Husband</td>\n",
       "      <td>White</td>\n",
       "      <td>Male</td>\n",
       "      <td>50</td>\n",
       "      <td>United-States</td>\n",
       "      <td>&lt;=50K</td>\n",
       "    </tr>\n",
       "    <tr>\n",
       "      <th>2</th>\n",
       "      <td>28</td>\n",
       "      <td>Local-gov</td>\n",
       "      <td>336951</td>\n",
       "      <td>Assoc-acdm</td>\n",
       "      <td>Married-civ-spouse</td>\n",
       "      <td>Protective-serv</td>\n",
       "      <td>Husband</td>\n",
       "      <td>White</td>\n",
       "      <td>Male</td>\n",
       "      <td>40</td>\n",
       "      <td>United-States</td>\n",
       "      <td>&gt;50K</td>\n",
       "    </tr>\n",
       "    <tr>\n",
       "      <th>3</th>\n",
       "      <td>44</td>\n",
       "      <td>Private</td>\n",
       "      <td>160323</td>\n",
       "      <td>Some-college</td>\n",
       "      <td>Married-civ-spouse</td>\n",
       "      <td>Machine-op-inspct</td>\n",
       "      <td>Husband</td>\n",
       "      <td>Black</td>\n",
       "      <td>Male</td>\n",
       "      <td>40</td>\n",
       "      <td>United-States</td>\n",
       "      <td>&gt;50K</td>\n",
       "    </tr>\n",
       "    <tr>\n",
       "      <th>5</th>\n",
       "      <td>34</td>\n",
       "      <td>Private</td>\n",
       "      <td>198693</td>\n",
       "      <td>10th</td>\n",
       "      <td>Never-married</td>\n",
       "      <td>Other-service</td>\n",
       "      <td>Not-in-family</td>\n",
       "      <td>White</td>\n",
       "      <td>Male</td>\n",
       "      <td>30</td>\n",
       "      <td>United-States</td>\n",
       "      <td>&lt;=50K</td>\n",
       "    </tr>\n",
       "  </tbody>\n",
       "</table>\n",
       "</div>"
      ],
      "text/plain": [
       "   age  workclass  fnlwgt     education      marital-status  \\\n",
       "0   25    Private  226802          11th       Never-married   \n",
       "1   38    Private   89814       HS-grad  Married-civ-spouse   \n",
       "2   28  Local-gov  336951    Assoc-acdm  Married-civ-spouse   \n",
       "3   44    Private  160323  Some-college  Married-civ-spouse   \n",
       "5   34    Private  198693          10th       Never-married   \n",
       "\n",
       "          occupation   relationship   race gender  hours-per-week  \\\n",
       "0  Machine-op-inspct      Own-child  Black   Male              40   \n",
       "1    Farming-fishing        Husband  White   Male              50   \n",
       "2    Protective-serv        Husband  White   Male              40   \n",
       "3  Machine-op-inspct        Husband  Black   Male              40   \n",
       "5      Other-service  Not-in-family  White   Male              30   \n",
       "\n",
       "  native-country income  \n",
       "0  United-States  <=50K  \n",
       "1  United-States  <=50K  \n",
       "2  United-States   >50K  \n",
       "3  United-States   >50K  \n",
       "5  United-States  <=50K  "
      ]
     },
     "execution_count": 33,
     "metadata": {},
     "output_type": "execute_result"
    }
   ],
   "source": [
    "data.head()"
   ]
  },
  {
   "cell_type": "code",
   "execution_count": 34,
   "id": "d6afea89",
   "metadata": {
    "ExecuteTime": {
     "end_time": "2023-01-24T10:00:24.790280Z",
     "start_time": "2023-01-24T10:00:24.121734Z"
    }
   },
   "outputs": [
    {
     "data": {
      "image/png": "[encoded data removed]",
      "text/plain": [
       "<Figure size 1080x504 with 1 Axes>"
      ]
     },
     "metadata": {
      "needs_background": "light"
     },
     "output_type": "display_data"
    }
   ],
   "source": [
    "fig = plt.figure(figsize=[15, 7])\n",
    "sns.histplot(data=data,x='age')\n",
    "plt.title('Number of People counts by Age', fontsize=18, fontweight='bold')\n",
    "\n",
    "plt.show()"
   ]
  },
  {
   "cell_type": "code",
   "execution_count": 35,
   "id": "4fce6be3",
   "metadata": {
    "ExecuteTime": {
     "end_time": "2023-01-24T10:00:24.829886Z",
     "start_time": "2023-01-24T10:00:24.791530Z"
    }
   },
   "outputs": [
    {
     "data": {
      "text/plain": [
       "36495"
      ]
     },
     "execution_count": 35,
     "metadata": {},
     "output_type": "execute_result"
    }
   ],
   "source": [
    "sum((data['age']>=17) & (data['age'] <=50))"
   ]
  },
  {
   "cell_type": "code",
   "execution_count": 36,
   "id": "88cd7c92",
   "metadata": {
    "ExecuteTime": {
     "end_time": "2023-01-24T10:00:24.861306Z",
     "start_time": "2023-01-24T10:00:24.829886Z"
    }
   },
   "outputs": [
    {
     "data": {
      "text/plain": [
       "Index(['age', 'workclass', 'fnlwgt', 'education', 'marital-status',\n",
       "       'occupation', 'relationship', 'race', 'gender', 'hours-per-week',\n",
       "       'native-country', 'income'],\n",
       "      dtype='object')"
      ]
     },
     "execution_count": 36,
     "metadata": {},
     "output_type": "execute_result"
    }
   ],
   "source": [
    "data.columns"
   ]
  },
  {
   "cell_type": "code",
   "execution_count": 37,
   "id": "8f9a0129",
   "metadata": {
    "ExecuteTime": {
     "end_time": "2023-01-24T10:00:25.269459Z",
     "start_time": "2023-01-24T10:00:24.861306Z"
    }
   },
   "outputs": [
    {
     "data": {
      "image/png": "[encoded data removed]",
      "text/plain": [
       "<Figure size 1080x504 with 1 Axes>"
      ]
     },
     "metadata": {
      "needs_background": "light"
     },
     "output_type": "display_data"
    }
   ],
   "source": [
    "fig = plt.figure(figsize=[15, 7])\n",
    "sns.histplot(data=data,x='workclass')\n",
    "plt.title('Number of People counts by Workclass', fontsize=18, fontweight='bold')\n",
    "\n",
    "plt.show()"
   ]
  },
  {
   "cell_type": "code",
   "execution_count": 38,
   "id": "2ebfe18a",
   "metadata": {
    "ExecuteTime": {
     "end_time": "2023-01-24T10:00:25.823919Z",
     "start_time": "2023-01-24T10:00:25.269459Z"
    }
   },
   "outputs": [
    {
     "data": {
      "image/png": "[encoded data removed]",
      "text/plain": [
       "<Figure size 1440x504 with 1 Axes>"
      ]
     },
     "metadata": {
      "needs_background": "light"
     },
     "output_type": "display_data"
    }
   ],
   "source": [
    "fig = plt.figure(figsize=[20, 7])\n",
    "sns.histplot(data=data,x='education')\n",
    "plt.title('Number of People counts by Income', fontsize=18, fontweight='bold')\n",
    "plt.xticks(fontsize=16,rotation = 90)\n",
    "\n",
    "plt.show()"
   ]
  },
  {
   "cell_type": "code",
   "execution_count": 39,
   "id": "53744444",
   "metadata": {
    "ExecuteTime": {
     "end_time": "2023-01-24T10:00:25.852012Z",
     "start_time": "2023-01-24T10:00:25.824713Z"
    }
   },
   "outputs": [
    {
     "data": {
      "text/plain": [
       "Index(['age', 'workclass', 'fnlwgt', 'education', 'marital-status',\n",
       "       'occupation', 'relationship', 'race', 'gender', 'hours-per-week',\n",
       "       'native-country', 'income'],\n",
       "      dtype='object')"
      ]
     },
     "execution_count": 39,
     "metadata": {},
     "output_type": "execute_result"
    }
   ],
   "source": [
    "data.columns"
   ]
  },
  {
   "cell_type": "code",
   "execution_count": 40,
   "id": "5f5e171e",
   "metadata": {
    "ExecuteTime": {
     "end_time": "2023-01-24T10:00:26.183531Z",
     "start_time": "2023-01-24T10:00:25.852012Z"
    }
   },
   "outputs": [
    {
     "data": {
      "image/png": "[encoded data removed]",
      "text/plain": [
       "<Figure size 1080x360 with 1 Axes>"
      ]
     },
     "metadata": {
      "needs_background": "light"
     },
     "output_type": "display_data"
    }
   ],
   "source": [
    "fig = plt.figure(figsize=[15, 5])\n",
    "sns.histplot(data=data,x='income')\n",
    "plt.title('Number of People counts by Income', fontsize=18, fontweight='bold')\n",
    "plt.show()\n"
   ]
  },
  {
   "cell_type": "code",
   "execution_count": 41,
   "id": "1678e2b5",
   "metadata": {
    "ExecuteTime": {
     "end_time": "2023-01-24T10:00:27.218974Z",
     "start_time": "2023-01-24T10:00:26.189013Z"
    }
   },
   "outputs": [
    {
     "data": {
      "image/png": "[encoded data removed]",
      "text/plain": [
       "<Figure size 720x504 with 1 Axes>"
      ]
     },
     "metadata": {
      "needs_background": "light"
     },
     "output_type": "display_data"
    }
   ],
   "source": [
    "fig = plt.figure(figsize=[10, 7])\n",
    "sns.boxplot(x='income',y='age',data=data)\n",
    "plt.title('Box Plot Age split by Income', fontsize=18, fontweight='bold')\n",
    "plt.show()"
   ]
  },
  {
   "cell_type": "code",
   "execution_count": 42,
   "id": "d2651fde",
   "metadata": {
    "ExecuteTime": {
     "end_time": "2023-01-24T10:00:30.044146Z",
     "start_time": "2023-01-24T10:00:27.218974Z"
    }
   },
   "outputs": [
    {
     "data": {
      "text/plain": [
       "<Figure size 720x504 with 0 Axes>"
      ]
     },
     "metadata": {},
     "output_type": "display_data"
    },
    {
     "data": {
      "image/png": "[encoded data removed]",
      "text/plain": [
       "<Figure size 431.875x360 with 1 Axes>"
      ]
     },
     "metadata": {
      "needs_background": "light"
     },
     "output_type": "display_data"
    }
   ],
   "source": [
    "fig = plt.figure(figsize=[10, 7])\n",
    "sns.displot(data, x=\"age\", hue=\"income\", kind=\"kde\")\n",
    "plt.title('Density Plot of Age split by Income', fontsize=18, fontweight='bold')\n",
    "plt.show()"
   ]
  },
  {
   "cell_type": "code",
   "execution_count": 43,
   "id": "f305a999",
   "metadata": {
    "ExecuteTime": {
     "end_time": "2023-01-24T10:00:30.116236Z",
     "start_time": "2023-01-24T10:00:30.049583Z"
    }
   },
   "outputs": [],
   "source": [
    "def age_group(x):\n",
    "    x = int(x)\n",
    "    x = abs(x)\n",
    "    if( 18 < x < 31 ):\n",
    "        return \"19-30\"\n",
    "    if( 30 < x < 41 ):\n",
    "        return \"31-40\"\n",
    "    if( 40 < x < 51 ):\n",
    "        return \"41-50\"\n",
    "    if( 50 < x < 61 ):\n",
    "        return \"51-60\"\n",
    "    if( 60 < x < 71 ):\n",
    "        return \"61-70\"\n",
    "    else:\n",
    "        return \"Greater than 70\"\n",
    "\n",
    "data['age_group'] = data['age'].apply(age_group)"
   ]
  },
  {
   "cell_type": "code",
   "execution_count": 44,
   "id": "940fcc89",
   "metadata": {
    "ExecuteTime": {
     "end_time": "2023-01-24T10:00:32.095667Z",
     "start_time": "2023-01-24T10:00:30.119189Z"
    }
   },
   "outputs": [
    {
     "data": {
      "image/png": "[encoded data removed]",
      "text/plain": [
       "<Figure size 720x504 with 1 Axes>"
      ]
     },
     "metadata": {
      "needs_background": "light"
     },
     "output_type": "display_data"
    }
   ],
   "source": [
    "fig = plt.figure(figsize=[10, 7])\n",
    "age_list= ['19-30', '31-40', '41-50', '51-60', '61-70', 'Greater than 70']\n",
    "sns.countplot(data['age_group'], hue = data['income'], palette='Oranges_r', order = age_list)\n",
    "plt.xticks(fontsize=16)\n",
    "plt.show()"
   ]
  },
  {
   "cell_type": "markdown",
   "id": "9daf8f00",
   "metadata": {},
   "source": [
    "## Observation\n",
    "We make an interesting observation over here. \n",
    "\n",
    "We see that people earning more than 50K dollars **increase as the age increases upto a certain extent**.\n",
    "\n",
    "As one might imagine, the number of people earning more than 50K is quite negligible amongst people of **age group 19-30**.\n",
    "For the people of **age group 41-50 and 51-60**, the number of people earning more than 50K is quite comparable to those earning less than it!"
   ]
  },
  {
   "cell_type": "code",
   "execution_count": 45,
   "id": "5d0f75d3",
   "metadata": {
    "ExecuteTime": {
     "end_time": "2023-01-24T10:00:32.120034Z",
     "start_time": "2023-01-24T10:00:32.100886Z"
    }
   },
   "outputs": [
    {
     "data": {
      "text/plain": [
       "Index(['age', 'workclass', 'fnlwgt', 'education', 'marital-status',\n",
       "       'occupation', 'relationship', 'race', 'gender', 'hours-per-week',\n",
       "       'native-country', 'income', 'age_group'],\n",
       "      dtype='object')"
      ]
     },
     "execution_count": 45,
     "metadata": {},
     "output_type": "execute_result"
    }
   ],
   "source": [
    "data.columns"
   ]
  },
  {
   "cell_type": "code",
   "execution_count": 46,
   "id": "c64290e9",
   "metadata": {
    "ExecuteTime": {
     "end_time": "2023-01-24T10:00:32.151221Z",
     "start_time": "2023-01-24T10:00:32.129515Z"
    }
   },
   "outputs": [
    {
     "data": {
      "text/plain": [
       "Private             33262\n",
       "Self-emp-not-inc     3795\n",
       "Local-gov            3100\n",
       "State-gov            1946\n",
       "Self-emp-inc         1645\n",
       "Federal-gov          1406\n",
       "Without-pay            21\n",
       "Name: workclass, dtype: int64"
      ]
     },
     "execution_count": 46,
     "metadata": {},
     "output_type": "execute_result"
    }
   ],
   "source": [
    "data['workclass'].value_counts()"
   ]
  },
  {
   "cell_type": "code",
   "execution_count": 47,
   "id": "2fbf9451",
   "metadata": {
    "ExecuteTime": {
     "end_time": "2023-01-24T10:00:33.940135Z",
     "start_time": "2023-01-24T10:00:32.157818Z"
    },
    "scrolled": true
   },
   "outputs": [
    {
     "data": {
      "image/png": "[encoded data removed]",
      "text/plain": [
       "<Figure size 720x504 with 1 Axes>"
      ]
     },
     "metadata": {
      "needs_background": "light"
     },
     "output_type": "display_data"
    }
   ],
   "source": [
    "fig = plt.figure(figsize=[10, 7])\n",
    "sns.countplot(data['income'],hue=data['gender'],data=data)\n",
    "plt.title('Income of Individuals of Different Gender', fontsize=18, fontweight='bold')\n",
    "plt.xticks(fontsize=16)\n",
    "\n",
    "plt.show()"
   ]
  },
  {
   "cell_type": "markdown",
   "id": "b46da3aa",
   "metadata": {},
   "source": [
    "## Observation\n",
    "## We can see a significant gap in the earnings between males and females over here.\n",
    "Males are earning more >50k income than females."
   ]
  },
  {
   "cell_type": "code",
   "execution_count": 48,
   "id": "9c4db614",
   "metadata": {
    "ExecuteTime": {
     "end_time": "2023-01-24T10:00:35.857524Z",
     "start_time": "2023-01-24T10:00:33.945811Z"
    }
   },
   "outputs": [
    {
     "data": {
      "text/plain": [
       "Text(0.5, 1.0, 'Income of Individuals of Different Working CLasses')"
      ]
     },
     "execution_count": 48,
     "metadata": {},
     "output_type": "execute_result"
    },
    {
     "data": {
      "image/png": "[encoded data removed]",
      "text/plain": [
       "<Figure size 864x432 with 1 Axes>"
      ]
     },
     "metadata": {
      "needs_background": "light"
     },
     "output_type": "display_data"
    }
   ],
   "source": [
    "plt.figure(figsize=(12,6))\n",
    "sns.countplot(data['workclass'], hue = data['income'], palette='Oranges_r')\n",
    "plt.xticks(fontsize=16,rotation = 90)\n",
    "plt.title('Income of Individuals of Different Working CLasses', fontsize=18, fontweight='bold')"
   ]
  },
  {
   "cell_type": "markdown",
   "id": "5e8dd66b",
   "metadata": {},
   "source": [
    "## Observation\n",
    "In the above graph, we have segregated the incomes of adults on the basis of their different **working classes**.\n",
    "\n",
    "It is quite interesting to see that **Self-Employed-inc** is the only category where the number of people who earn more than 50K dollars exceed those earning less than it! It might be conducive to suggest that when you handle your own business, start-up, etc. you are more likely to earn better if it gets successful!\n",
    "\n",
    "People working in the **Private Sector** face a significant difference between their pays where more people are earn less than 50K dollars an year!\n",
    "\n",
    "There is a very minute difference between the number of people whose income is more or less than 50K dollars an year who work for the **Federal Govt**.\n",
    "\n",
    "People belonging to the category **Without-Pay** hardly contain any data in both the categories."
   ]
  },
  {
   "cell_type": "code",
   "execution_count": 49,
   "id": "f76463b4",
   "metadata": {
    "ExecuteTime": {
     "end_time": "2023-01-24T10:00:38.011025Z",
     "start_time": "2023-01-24T10:00:35.860596Z"
    }
   },
   "outputs": [
    {
     "data": {
      "image/png": "[encoded data removed]",
      "text/plain": [
       "<Figure size 1080x360 with 1 Axes>"
      ]
     },
     "metadata": {
      "needs_background": "light"
     },
     "output_type": "display_data"
    }
   ],
   "source": [
    "fig = plt.figure(figsize=[15, 5])\n",
    "sns.countplot(data['education'], hue = data['income'], palette='Oranges_r', data= data)\n",
    "plt.title('Income of Individuals of Different Education', fontsize=18, fontweight='bold')\n",
    "plt.xticks(fontsize=16,rotation = 90)\n",
    "plt.show()"
   ]
  },
  {
   "cell_type": "markdown",
   "id": "0a52e4ab",
   "metadata": {},
   "source": [
    "## Observation\n",
    " **We can draw a few conclusions from this graph**.\n",
    "\n",
    "For the people who have completed their education up till **12th Standard**, there are just a handful of them who earn **more than 50K dollars** an year. Most of the people end up earning **below 50K**!\n",
    "\n",
    "For the people belonging to **Bachelors, Masters, Doctorate, Prof-school** category in the education level, there are more number of people who are earning greater than **50K dollars** an year than the number of people earning less than it.\n",
    "\n",
    "In case of **Assoc-acad or Assoc-voc**, there are a few people who earn more than **50K dollars** an year!"
   ]
  },
  {
   "cell_type": "code",
   "execution_count": 50,
   "id": "3bb55c11",
   "metadata": {
    "ExecuteTime": {
     "end_time": "2023-01-24T10:00:40.090032Z",
     "start_time": "2023-01-24T10:00:38.016599Z"
    }
   },
   "outputs": [
    {
     "data": {
      "image/png": "[encoded data removed]",
      "text/plain": [
       "<Figure size 1080x360 with 1 Axes>"
      ]
     },
     "metadata": {
      "needs_background": "light"
     },
     "output_type": "display_data"
    }
   ],
   "source": [
    "fig = plt.figure(figsize=[15, 5])\n",
    "sns.countplot(data['occupation'], hue = data['income'], palette='Oranges_r', data= data)\n",
    "plt.title('Income of Individuals of Different Occupation', fontsize=18, fontweight='bold')\n",
    "plt.xticks(fontsize=16,rotation = 90)\n",
    "\n",
    "plt.show()"
   ]
  },
  {
   "cell_type": "markdown",
   "id": "fe6f7d47",
   "metadata": {},
   "source": [
    "## Observation\n",
    "A few points to note over here:-\n",
    "\n",
    "Adults in **Exec-managerial** role are equally likely to earn more than 50K dollars an year.\n",
    "\n",
    "There's close to 33% probablity for an adult in **Prof-specialty** to earn more than 50K dollars an year.\n",
    "\n",
    "Adults working in **Farming-fishing, Machine-op-inspect, Other-service, Adm-clerical, Transport-moving** are very less likely to earn more than 50K dollars an year.\n",
    "\n",
    "Around 25% of the people working in **Sales** earn more than 50K dollars an year."
   ]
  },
  {
   "cell_type": "code",
   "execution_count": 51,
   "id": "4cad854b",
   "metadata": {
    "ExecuteTime": {
     "end_time": "2023-01-24T10:00:42.229030Z",
     "start_time": "2023-01-24T10:00:40.093357Z"
    }
   },
   "outputs": [
    {
     "data": {
      "image/png": "[encoded data removed]",
      "text/plain": [
       "<Figure size 1080x360 with 1 Axes>"
      ]
     },
     "metadata": {
      "needs_background": "light"
     },
     "output_type": "display_data"
    }
   ],
   "source": [
    "fig = plt.figure(figsize=[15, 5])\n",
    "sns.countplot(data['relationship'], hue = data['income'], palette='Oranges_r', data= data)\n",
    "plt.title('Income of Individuals of Different Relationship', fontsize=18, fontweight='bold')\n",
    "plt.xticks(fontsize=16)\n",
    "plt.show()"
   ]
  },
  {
   "cell_type": "markdown",
   "id": "b8298134",
   "metadata": {},
   "source": [
    "## Observation\n",
    "**Wives** are equally likely to earn more than 50K dollars an year.\n",
    "\n",
    "For **Husbands**, although significant, there is less possibility of them to earn more than 50K dollars an year.\n",
    "\n",
    "There are just a handful of **Unmarried** people earning more than 50K dollars an year."
   ]
  },
  {
   "cell_type": "code",
   "execution_count": 52,
   "id": "3d99b92f",
   "metadata": {
    "ExecuteTime": {
     "end_time": "2023-01-24T10:00:44.135125Z",
     "start_time": "2023-01-24T10:00:42.232964Z"
    }
   },
   "outputs": [
    {
     "data": {
      "image/png": "[encoded data removed]",
      "text/plain": [
       "<Figure size 1080x360 with 1 Axes>"
      ]
     },
     "metadata": {
      "needs_background": "light"
     },
     "output_type": "display_data"
    }
   ],
   "source": [
    "fig = plt.figure(figsize=[15, 5])\n",
    "sns.countplot(data['race'], hue = data['income'], palette='Oranges_r', data= data)\n",
    "plt.title('Income of Individuals of Different Race', fontsize=18, fontweight='bold')\n",
    "plt.xticks(fontsize=16)\n",
    "plt.show()"
   ]
  },
  {
   "cell_type": "markdown",
   "id": "6d8f6058",
   "metadata": {},
   "source": [
    "## Observation\n",
    "An important point to notice over here is that, except **Whites** there are very few people of different races."
   ]
  },
  {
   "cell_type": "code",
   "execution_count": 53,
   "id": "3b596ebd",
   "metadata": {
    "ExecuteTime": {
     "end_time": "2023-01-24T10:00:44.164068Z",
     "start_time": "2023-01-24T10:00:44.141840Z"
    }
   },
   "outputs": [],
   "source": [
    "data['income']=data['income'].map({'<=50K': 0, '>50K': 1})"
   ]
  },
  {
   "cell_type": "code",
   "execution_count": 54,
   "id": "8e0659ca",
   "metadata": {
    "ExecuteTime": {
     "end_time": "2023-01-24T10:00:44.682738Z",
     "start_time": "2023-01-24T10:00:44.165074Z"
    }
   },
   "outputs": [
    {
     "name": "stderr",
     "output_type": "stream",
     "text": [
      "No artists with labels found to put in legend.  Note that artists whose label start with an underscore are ignored when legend() is called with no argument.\n"
     ]
    },
    {
     "data": {
      "image/png": "[encoded data removed]",
      "text/plain": [
       "<Figure size 864x720 with 2 Axes>"
      ]
     },
     "metadata": {
      "needs_background": "light"
     },
     "output_type": "display_data"
    }
   ],
   "source": [
    "plt.figure(figsize = (12,10))\n",
    "sns.heatmap(data.corr(), cmap = 'Oranges', annot = True)\n",
    "plt.title(\"Correlation between different features of the dataset\", fontsize = 18, fontweight = 'bold')\n",
    "\n",
    "plt.xticks(fontsize=12, rotation = 90)\n",
    "plt.yticks(fontsize=12, rotation = 90)\n",
    "plt.legend(fontsize=12)\n",
    "plt.show()"
   ]
  },
  {
   "cell_type": "markdown",
   "id": "bdc2941a",
   "metadata": {},
   "source": [
    "## Observation"
   ]
  },
  {
   "cell_type": "markdown",
   "id": "498c56c7",
   "metadata": {},
   "source": [
    "Here, we have tried to plot a correlation map in order to see whether the features related to each other.\n",
    "\n",
    "We see that most of the features are **positively** correlated with the **Income Variable**.\n",
    "\n",
    "An important thing to note over here is that, we have not covered the object datatypes in this correlation graph."
   ]
  }
 ],
 "metadata": {
  "kernelspec": {
   "display_name": "Python 3 (ipykernel)",
   "language": "python",
   "name": "python3"
  },
  "language_info": {
   "codemirror_mode": {
    "name": "ipython",
    "version": 3
   },
   "file_extension": ".py",
   "mimetype": "text/x-python",
   "name": "python",
   "nbconvert_exporter": "python",
   "pygments_lexer": "ipython3",
   "version": "3.9.12"
  }
 },
 "nbformat": 4,
 "nbformat_minor": 5
}
